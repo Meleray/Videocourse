{
 "cells": [
  {
   "cell_type": "code",
   "execution_count": 1,
   "metadata": {},
   "outputs": [],
   "source": [
    "%matplotlib inline\n",
    "\n",
    "import numpy as np\n",
    "import pandas as pd\n",
    "\n",
    "import tensorflow as tf\n",
    "from tensorflow import keras\n",
    "\n",
    "\n",
    "from skimage.io import imread\n",
    "from skimage.transform import resize, rotate\n",
    "from skimage.color import rgb2gray\n",
    "\n",
    "from sklearn.model_selection import train_test_split\n",
    "\n",
    "import os\n",
    "import matplotlib.pyplot as plt\n",
    "\n",
    "from tqdm.notebook import tqdm\n",
    "import glob"
   ]
  },
  {
   "cell_type": "code",
   "execution_count": 67,
   "metadata": {},
   "outputs": [
    {
     "name": "stdout",
     "output_type": "stream",
     "text": [
      "Model: \"functional_5\"\n",
      "__________________________________________________________________________________________________\n",
      "Layer (type)                    Output Shape         Param #     Connected to                     \n",
      "==================================================================================================\n",
      "input_5 (InputLayer)            [(None, 16)]         0                                            \n",
      "__________________________________________________________________________________________________\n",
      "input_6 (InputLayer)            [(None, 32)]         0                                            \n",
      "__________________________________________________________________________________________________\n",
      "dense_10 (Dense)                (None, 8)            136         input_5[0][0]                    \n",
      "__________________________________________________________________________________________________\n",
      "dense_11 (Dense)                (None, 8)            264         input_6[0][0]                    \n",
      "__________________________________________________________________________________________________\n",
      "subtract_2 (Subtract)           (None, 8)            0           dense_10[0][0]                   \n",
      "                                                                 dense_11[0][0]                   \n",
      "__________________________________________________________________________________________________\n",
      "dense_12 (Dense)                (None, 4)            36          subtract_2[0][0]                 \n",
      "==================================================================================================\n",
      "Total params: 436\n",
      "Trainable params: 436\n",
      "Non-trainable params: 0\n",
      "__________________________________________________________________________________________________\n"
     ]
    }
   ],
   "source": [
    "#Sample\n",
    "input1 = keras.layers.Input(shape=(16,))\n",
    "x1 = keras.layers.Dense(8, activation='relu')(input1)\n",
    "input2 = keras.layers.Input(shape=(32,))\n",
    "x2 = keras.layers.Dense(8, activation='relu')(input2)\n",
    "subtracted = keras.layers.Subtract()([x1, x2])\n",
    "\n",
    "out = keras.layers.Dense(4)(subtracted)\n",
    "model = keras.models.Model(inputs=[input1, input2], outputs=out)\n",
    "model.summary()"
   ]
  },
  {
   "cell_type": "code",
   "execution_count": 2,
   "metadata": {},
   "outputs": [
    {
     "data": {
      "text/html": [
       "<div>\n",
       "<style scoped>\n",
       "    .dataframe tbody tr th:only-of-type {\n",
       "        vertical-align: middle;\n",
       "    }\n",
       "\n",
       "    .dataframe tbody tr th {\n",
       "        vertical-align: top;\n",
       "    }\n",
       "\n",
       "    .dataframe thead th {\n",
       "        text-align: right;\n",
       "    }\n",
       "</style>\n",
       "<table border=\"1\" class=\"dataframe\">\n",
       "  <thead>\n",
       "    <tr style=\"text-align: right;\">\n",
       "      <th></th>\n",
       "      <th>filename</th>\n",
       "      <th>x1</th>\n",
       "      <th>y1</th>\n",
       "      <th>x2</th>\n",
       "      <th>y2</th>\n",
       "      <th>x3</th>\n",
       "      <th>y3</th>\n",
       "      <th>x4</th>\n",
       "      <th>y4</th>\n",
       "      <th>x5</th>\n",
       "      <th>...</th>\n",
       "      <th>x10</th>\n",
       "      <th>y10</th>\n",
       "      <th>x11</th>\n",
       "      <th>y11</th>\n",
       "      <th>x12</th>\n",
       "      <th>y12</th>\n",
       "      <th>x13</th>\n",
       "      <th>y13</th>\n",
       "      <th>x14</th>\n",
       "      <th>y14</th>\n",
       "    </tr>\n",
       "  </thead>\n",
       "  <tbody>\n",
       "    <tr>\n",
       "      <th>0</th>\n",
       "      <td>00000.jpg</td>\n",
       "      <td>51</td>\n",
       "      <td>51</td>\n",
       "      <td>127</td>\n",
       "      <td>60</td>\n",
       "      <td>169</td>\n",
       "      <td>65</td>\n",
       "      <td>203</td>\n",
       "      <td>52</td>\n",
       "      <td>68</td>\n",
       "      <td>...</td>\n",
       "      <td>193</td>\n",
       "      <td>84</td>\n",
       "      <td>156</td>\n",
       "      <td>144</td>\n",
       "      <td>92</td>\n",
       "      <td>174</td>\n",
       "      <td>140</td>\n",
       "      <td>180</td>\n",
       "      <td>168</td>\n",
       "      <td>179</td>\n",
       "    </tr>\n",
       "    <tr>\n",
       "      <th>1</th>\n",
       "      <td>00001.jpg</td>\n",
       "      <td>21</td>\n",
       "      <td>20</td>\n",
       "      <td>36</td>\n",
       "      <td>18</td>\n",
       "      <td>57</td>\n",
       "      <td>19</td>\n",
       "      <td>80</td>\n",
       "      <td>25</td>\n",
       "      <td>23</td>\n",
       "      <td>...</td>\n",
       "      <td>78</td>\n",
       "      <td>33</td>\n",
       "      <td>43</td>\n",
       "      <td>46</td>\n",
       "      <td>31</td>\n",
       "      <td>61</td>\n",
       "      <td>45</td>\n",
       "      <td>66</td>\n",
       "      <td>60</td>\n",
       "      <td>65</td>\n",
       "    </tr>\n",
       "    <tr>\n",
       "      <th>2</th>\n",
       "      <td>00002.jpg</td>\n",
       "      <td>23</td>\n",
       "      <td>116</td>\n",
       "      <td>39</td>\n",
       "      <td>83</td>\n",
       "      <td>47</td>\n",
       "      <td>57</td>\n",
       "      <td>56</td>\n",
       "      <td>19</td>\n",
       "      <td>36</td>\n",
       "      <td>...</td>\n",
       "      <td>62</td>\n",
       "      <td>31</td>\n",
       "      <td>91</td>\n",
       "      <td>86</td>\n",
       "      <td>106</td>\n",
       "      <td>122</td>\n",
       "      <td>115</td>\n",
       "      <td>100</td>\n",
       "      <td>121</td>\n",
       "      <td>81</td>\n",
       "    </tr>\n",
       "    <tr>\n",
       "      <th>3</th>\n",
       "      <td>00003.jpg</td>\n",
       "      <td>29</td>\n",
       "      <td>18</td>\n",
       "      <td>63</td>\n",
       "      <td>25</td>\n",
       "      <td>84</td>\n",
       "      <td>32</td>\n",
       "      <td>105</td>\n",
       "      <td>34</td>\n",
       "      <td>38</td>\n",
       "      <td>...</td>\n",
       "      <td>95</td>\n",
       "      <td>45</td>\n",
       "      <td>72</td>\n",
       "      <td>71</td>\n",
       "      <td>46</td>\n",
       "      <td>83</td>\n",
       "      <td>63</td>\n",
       "      <td>87</td>\n",
       "      <td>75</td>\n",
       "      <td>89</td>\n",
       "    </tr>\n",
       "    <tr>\n",
       "      <th>4</th>\n",
       "      <td>00004.jpg</td>\n",
       "      <td>31</td>\n",
       "      <td>53</td>\n",
       "      <td>76</td>\n",
       "      <td>44</td>\n",
       "      <td>107</td>\n",
       "      <td>38</td>\n",
       "      <td>136</td>\n",
       "      <td>33</td>\n",
       "      <td>40</td>\n",
       "      <td>...</td>\n",
       "      <td>129</td>\n",
       "      <td>49</td>\n",
       "      <td>111</td>\n",
       "      <td>105</td>\n",
       "      <td>72</td>\n",
       "      <td>137</td>\n",
       "      <td>106</td>\n",
       "      <td>132</td>\n",
       "      <td>126</td>\n",
       "      <td>121</td>\n",
       "    </tr>\n",
       "    <tr>\n",
       "      <th>...</th>\n",
       "      <td>...</td>\n",
       "      <td>...</td>\n",
       "      <td>...</td>\n",
       "      <td>...</td>\n",
       "      <td>...</td>\n",
       "      <td>...</td>\n",
       "      <td>...</td>\n",
       "      <td>...</td>\n",
       "      <td>...</td>\n",
       "      <td>...</td>\n",
       "      <td>...</td>\n",
       "      <td>...</td>\n",
       "      <td>...</td>\n",
       "      <td>...</td>\n",
       "      <td>...</td>\n",
       "      <td>...</td>\n",
       "      <td>...</td>\n",
       "      <td>...</td>\n",
       "      <td>...</td>\n",
       "      <td>...</td>\n",
       "      <td>...</td>\n",
       "    </tr>\n",
       "    <tr>\n",
       "      <th>5995</th>\n",
       "      <td>05995.jpg</td>\n",
       "      <td>22</td>\n",
       "      <td>31</td>\n",
       "      <td>41</td>\n",
       "      <td>25</td>\n",
       "      <td>80</td>\n",
       "      <td>25</td>\n",
       "      <td>100</td>\n",
       "      <td>25</td>\n",
       "      <td>30</td>\n",
       "      <td>...</td>\n",
       "      <td>97</td>\n",
       "      <td>42</td>\n",
       "      <td>69</td>\n",
       "      <td>70</td>\n",
       "      <td>47</td>\n",
       "      <td>92</td>\n",
       "      <td>58</td>\n",
       "      <td>95</td>\n",
       "      <td>75</td>\n",
       "      <td>89</td>\n",
       "    </tr>\n",
       "    <tr>\n",
       "      <th>5996</th>\n",
       "      <td>05996.jpg</td>\n",
       "      <td>31</td>\n",
       "      <td>37</td>\n",
       "      <td>39</td>\n",
       "      <td>37</td>\n",
       "      <td>59</td>\n",
       "      <td>28</td>\n",
       "      <td>98</td>\n",
       "      <td>17</td>\n",
       "      <td>36</td>\n",
       "      <td>...</td>\n",
       "      <td>109</td>\n",
       "      <td>34</td>\n",
       "      <td>84</td>\n",
       "      <td>70</td>\n",
       "      <td>70</td>\n",
       "      <td>104</td>\n",
       "      <td>87</td>\n",
       "      <td>106</td>\n",
       "      <td>90</td>\n",
       "      <td>104</td>\n",
       "    </tr>\n",
       "    <tr>\n",
       "      <th>5997</th>\n",
       "      <td>05997.jpg</td>\n",
       "      <td>21</td>\n",
       "      <td>33</td>\n",
       "      <td>41</td>\n",
       "      <td>33</td>\n",
       "      <td>83</td>\n",
       "      <td>30</td>\n",
       "      <td>100</td>\n",
       "      <td>28</td>\n",
       "      <td>47</td>\n",
       "      <td>...</td>\n",
       "      <td>119</td>\n",
       "      <td>44</td>\n",
       "      <td>86</td>\n",
       "      <td>78</td>\n",
       "      <td>55</td>\n",
       "      <td>114</td>\n",
       "      <td>75</td>\n",
       "      <td>114</td>\n",
       "      <td>94</td>\n",
       "      <td>111</td>\n",
       "    </tr>\n",
       "    <tr>\n",
       "      <th>5998</th>\n",
       "      <td>05998.jpg</td>\n",
       "      <td>8</td>\n",
       "      <td>13</td>\n",
       "      <td>17</td>\n",
       "      <td>10</td>\n",
       "      <td>30</td>\n",
       "      <td>10</td>\n",
       "      <td>36</td>\n",
       "      <td>10</td>\n",
       "      <td>11</td>\n",
       "      <td>...</td>\n",
       "      <td>36</td>\n",
       "      <td>15</td>\n",
       "      <td>28</td>\n",
       "      <td>25</td>\n",
       "      <td>18</td>\n",
       "      <td>36</td>\n",
       "      <td>27</td>\n",
       "      <td>35</td>\n",
       "      <td>34</td>\n",
       "      <td>34</td>\n",
       "    </tr>\n",
       "    <tr>\n",
       "      <th>5999</th>\n",
       "      <td>05999.jpg</td>\n",
       "      <td>9</td>\n",
       "      <td>8</td>\n",
       "      <td>17</td>\n",
       "      <td>8</td>\n",
       "      <td>27</td>\n",
       "      <td>8</td>\n",
       "      <td>35</td>\n",
       "      <td>8</td>\n",
       "      <td>10</td>\n",
       "      <td>...</td>\n",
       "      <td>37</td>\n",
       "      <td>16</td>\n",
       "      <td>25</td>\n",
       "      <td>24</td>\n",
       "      <td>17</td>\n",
       "      <td>34</td>\n",
       "      <td>24</td>\n",
       "      <td>33</td>\n",
       "      <td>32</td>\n",
       "      <td>32</td>\n",
       "    </tr>\n",
       "  </tbody>\n",
       "</table>\n",
       "<p>6000 rows × 29 columns</p>\n",
       "</div>"
      ],
      "text/plain": [
       "       filename  x1   y1   x2  y2   x3  y3   x4  y4  x5  ...  x10  y10  x11  \\\n",
       "0     00000.jpg  51   51  127  60  169  65  203  52  68  ...  193   84  156   \n",
       "1     00001.jpg  21   20   36  18   57  19   80  25  23  ...   78   33   43   \n",
       "2     00002.jpg  23  116   39  83   47  57   56  19  36  ...   62   31   91   \n",
       "3     00003.jpg  29   18   63  25   84  32  105  34  38  ...   95   45   72   \n",
       "4     00004.jpg  31   53   76  44  107  38  136  33  40  ...  129   49  111   \n",
       "...         ...  ..  ...  ...  ..  ...  ..  ...  ..  ..  ...  ...  ...  ...   \n",
       "5995  05995.jpg  22   31   41  25   80  25  100  25  30  ...   97   42   69   \n",
       "5996  05996.jpg  31   37   39  37   59  28   98  17  36  ...  109   34   84   \n",
       "5997  05997.jpg  21   33   41  33   83  30  100  28  47  ...  119   44   86   \n",
       "5998  05998.jpg   8   13   17  10   30  10   36  10  11  ...   36   15   28   \n",
       "5999  05999.jpg   9    8   17   8   27   8   35   8  10  ...   37   16   25   \n",
       "\n",
       "      y11  x12  y12  x13  y13  x14  y14  \n",
       "0     144   92  174  140  180  168  179  \n",
       "1      46   31   61   45   66   60   65  \n",
       "2      86  106  122  115  100  121   81  \n",
       "3      71   46   83   63   87   75   89  \n",
       "4     105   72  137  106  132  126  121  \n",
       "...   ...  ...  ...  ...  ...  ...  ...  \n",
       "5995   70   47   92   58   95   75   89  \n",
       "5996   70   70  104   87  106   90  104  \n",
       "5997   78   55  114   75  114   94  111  \n",
       "5998   25   18   36   27   35   34   34  \n",
       "5999   24   17   34   24   33   32   32  \n",
       "\n",
       "[6000 rows x 29 columns]"
      ]
     },
     "execution_count": 2,
     "metadata": {},
     "output_type": "execute_result"
    }
   ],
   "source": [
    "gt = pd.read_csv('public_tests/00_test_img_gt/gt.csv')\n",
    "gt"
   ]
  },
  {
   "cell_type": "code",
   "execution_count": 3,
   "metadata": {},
   "outputs": [],
   "source": [
    "def read_and_resize_dataset(dataset_dir, gt_path, size=(100, 100, 1)):\n",
    "    gt = pd.read_csv(gt_path)\n",
    "    files = sorted(os.listdir(dataset_dir))\n",
    "    images = []\n",
    "    keypoints_data = []\n",
    "    for i in tqdm(range(len(files)), desc='reading images...'):\n",
    "        img = imread(dataset_dir+'/'+files[i])\n",
    "        x, y = img.shape[0], img.shape[1]\n",
    "        img = rgb2gray(img)\n",
    "        img = resize(img, size, mode='constant')\n",
    "\n",
    "        keypoints = gt.iloc[i, 1:].values\n",
    "        xs = keypoints[::2].astype('float32')\n",
    "        ys = keypoints[1::2].astype('float32')\n",
    "        xs = np.rint(xs / x * size[0])\n",
    "        ys = np.rint(ys / y * size[1])\n",
    "        keypoints[::2] = xs\n",
    "        keypoints[1::2] = ys\n",
    "\n",
    "        keypoints_data.append(keypoints)\n",
    "        images.append(img)\n",
    "    images = np.array(images, dtype='float32')\n",
    "    keypoints_data = np.array(keypoints_data)\n",
    "    return images, keypoints_data"
   ]
  },
  {
   "cell_type": "code",
   "execution_count": 4,
   "metadata": {},
   "outputs": [
    {
     "data": {
      "application/vnd.jupyter.widget-view+json": {
       "model_id": "5ffdf79b19594ba3bff8eeadddbbfffa",
       "version_major": 2,
       "version_minor": 0
      },
      "text/plain": [
       "HBox(children=(FloatProgress(value=0.0, description='reading images...', max=6000.0, style=ProgressStyle(descr…"
      ]
     },
     "metadata": {},
     "output_type": "display_data"
    },
    {
     "name": "stderr",
     "output_type": "stream",
     "text": [
      "<ipython-input-3-478588ca0c59>:9: FutureWarning: The behavior of rgb2gray will change in scikit-image 0.19. Currently, rgb2gray allows 2D grayscale image to be passed as inputs and leaves them unmodified as outputs. Starting from version 0.19, 2D arrays will be treated as 1D images with 3 channels.\n",
      "  img = rgb2gray(img)\n"
     ]
    },
    {
     "name": "stdout",
     "output_type": "stream",
     "text": [
      "\n"
     ]
    }
   ],
   "source": [
    "x, y = read_and_resize_dataset('public_tests/00_test_img_input/train/images',\n",
    "                               'public_tests/00_test_img_input/train/gt.csv')"
   ]
  },
  {
   "cell_type": "code",
   "execution_count": 59,
   "metadata": {},
   "outputs": [
    {
     "name": "stdout",
     "output_type": "stream",
     "text": [
      "(6000, 100, 100, 1) (6000, 28)\n",
      "Model: \"sequential_5\"\n",
      "_________________________________________________________________\n",
      "Layer (type)                 Output Shape              Param #   \n",
      "=================================================================\n",
      "conv2d_46 (Conv2D)           (None, 100, 100, 32)      288       \n",
      "_________________________________________________________________\n",
      "leaky_re_lu_46 (LeakyReLU)   (None, 100, 100, 32)      0         \n",
      "_________________________________________________________________\n",
      "batch_normalization_46 (Batc (None, 100, 100, 32)      128       \n",
      "_________________________________________________________________\n",
      "max_pooling2d_22 (MaxPooling (None, 50, 50, 32)        0         \n",
      "_________________________________________________________________\n",
      "conv2d_47 (Conv2D)           (None, 50, 50, 64)        18432     \n",
      "_________________________________________________________________\n",
      "leaky_re_lu_47 (LeakyReLU)   (None, 50, 50, 64)        0         \n",
      "_________________________________________________________________\n",
      "batch_normalization_47 (Batc (None, 50, 50, 64)        256       \n",
      "_________________________________________________________________\n",
      "max_pooling2d_23 (MaxPooling (None, 25, 25, 64)        0         \n",
      "_________________________________________________________________\n",
      "conv2d_48 (Conv2D)           (None, 25, 25, 96)        55296     \n",
      "_________________________________________________________________\n",
      "leaky_re_lu_48 (LeakyReLU)   (None, 25, 25, 96)        0         \n",
      "_________________________________________________________________\n",
      "batch_normalization_48 (Batc (None, 25, 25, 96)        384       \n",
      "_________________________________________________________________\n",
      "max_pooling2d_24 (MaxPooling (None, 12, 12, 96)        0         \n",
      "_________________________________________________________________\n",
      "conv2d_49 (Conv2D)           (None, 12, 12, 128)       110592    \n",
      "_________________________________________________________________\n",
      "leaky_re_lu_49 (LeakyReLU)   (None, 12, 12, 128)       0         \n",
      "_________________________________________________________________\n",
      "batch_normalization_49 (Batc (None, 12, 12, 128)       512       \n",
      "_________________________________________________________________\n",
      "max_pooling2d_25 (MaxPooling (None, 6, 6, 128)         0         \n",
      "_________________________________________________________________\n",
      "conv2d_50 (Conv2D)           (None, 6, 6, 256)         294912    \n",
      "_________________________________________________________________\n",
      "leaky_re_lu_50 (LeakyReLU)   (None, 6, 6, 256)         0         \n",
      "_________________________________________________________________\n",
      "batch_normalization_50 (Batc (None, 6, 6, 256)         1024      \n",
      "_________________________________________________________________\n",
      "max_pooling2d_26 (MaxPooling (None, 3, 3, 256)         0         \n",
      "_________________________________________________________________\n",
      "conv2d_51 (Conv2D)           (None, 3, 3, 512)         1179648   \n",
      "_________________________________________________________________\n",
      "leaky_re_lu_51 (LeakyReLU)   (None, 3, 3, 512)         0         \n",
      "_________________________________________________________________\n",
      "batch_normalization_51 (Batc (None, 3, 3, 512)         2048      \n",
      "_________________________________________________________________\n",
      "flatten_5 (Flatten)          (None, 4608)              0         \n",
      "_________________________________________________________________\n",
      "dense_10 (Dense)             (None, 512)               2359808   \n",
      "_________________________________________________________________\n",
      "dropout_5 (Dropout)          (None, 512)               0         \n",
      "_________________________________________________________________\n",
      "dense_11 (Dense)             (None, 28)                14364     \n",
      "=================================================================\n",
      "Total params: 4,037,692\n",
      "Trainable params: 4,035,516\n",
      "Non-trainable params: 2,176\n",
      "_________________________________________________________________\n"
     ]
    },
    {
     "data": {
      "text/plain": [
       "3.0998529050519457"
      ]
     },
     "execution_count": 59,
     "metadata": {},
     "output_type": "execute_result"
    }
   ],
   "source": [
    "print(x.shape, y.shape)\n",
    "model = keras.models.load_model('models/model1_short_36000.hdf5')\n",
    "model.save('facepoints_model.hdf5')\n",
    "model.summary()\n",
    "y_pred = model.predict((x - np.mean(x)) / np.std(x))\n",
    "np.mean((y_pred - y) ** 2)"
   ]
  },
  {
   "cell_type": "code",
   "execution_count": 5,
   "metadata": {},
   "outputs": [],
   "source": [
    "def mirror(img, keypoints):\n",
    "    new_img = np.zeros((100, 100, 1))\n",
    "    new_img[:, :, 0] = np.fliplr(img[:, :, 0])\n",
    "    xs = keypoints[::2]\n",
    "    xs = 100 - xs\n",
    "    ys = keypoints[1::2]\n",
    "    \n",
    "    new_key = np.zeros_like(keypoints)\n",
    "    \n",
    "    new_key[0] = xs[3]\n",
    "    new_key[1] = ys[3]\n",
    "    \n",
    "    new_key[2] = xs[2]\n",
    "    new_key[3] = ys[2]\n",
    "    \n",
    "    new_key[4] = xs[1]\n",
    "    new_key[5] = ys[1]\n",
    "    \n",
    "    new_key[6] = xs[0]\n",
    "    new_key[7] = ys[0]\n",
    "    \n",
    "    new_key[8] = xs[9]\n",
    "    new_key[9] = ys[9]\n",
    "    \n",
    "    new_key[10] = xs[8]\n",
    "    new_key[11] = ys[8]\n",
    "    \n",
    "    new_key[12] = xs[7]\n",
    "    new_key[13] = ys[7]\n",
    "    \n",
    "    new_key[14] = xs[6]\n",
    "    new_key[15] = ys[6]\n",
    "    \n",
    "    new_key[16] = xs[5]\n",
    "    new_key[17] = ys[5]\n",
    "    \n",
    "    new_key[18] = xs[4]\n",
    "    new_key[19] = ys[4]\n",
    "    \n",
    "    new_key[20] = xs[10]\n",
    "    new_key[21] = ys[10]\n",
    "    \n",
    "    new_key[22] = xs[13]\n",
    "    new_key[23] = ys[13]\n",
    "    \n",
    "    new_key[24] = xs[12]\n",
    "    new_key[25] = ys[12]\n",
    "    \n",
    "    new_key[26] = xs[11]\n",
    "    new_key[27] = ys[11]\n",
    "        \n",
    "\n",
    "    return new_img, new_key"
   ]
  },
  {
   "cell_type": "code",
   "execution_count": 6,
   "metadata": {},
   "outputs": [],
   "source": [
    "def rotation(image,facekeys, ang_pos):\n",
    "    a=ang_pos*np.pi/180\n",
    "    rot_matrix=np.array([[np.cos(a),np.sin(a)],[-np.sin(a),np.cos(a)]])\n",
    "    facekeys_r=np.array(facekeys.reshape(14, 2))\n",
    "    img=rotate(image,ang_pos,center=(0,0),mode='constant',resize=False,order=1)\n",
    "    for i in range(0,14):\n",
    "\n",
    "        facekeys_r[i]=np.dot(rot_matrix,facekeys_r[i].T)\n",
    "\n",
    "    return img, facekeys_r.ravel()"
   ]
  },
  {
   "cell_type": "code",
   "execution_count": 16,
   "metadata": {},
   "outputs": [
    {
     "data": {
      "image/png": "[encoded data removed]",
      "text/plain": [
       "<Figure size 432x288 with 1 Axes>"
      ]
     },
     "metadata": {
      "needs_background": "light"
     },
     "output_type": "display_data"
    }
   ],
   "source": [
    "i = 1\n",
    "img1 = x[i]\n",
    "xs1 = y[i][::2]\n",
    "ys1 = y[i][1::2]\n",
    "plt.imshow(img1, cmap='gray')\n",
    "plt.scatter(xs1, ys1)\n",
    "for i in range(14):\n",
    "    plt.annotate(i, (xs1[i], ys1[i]))\n",
    "plt.show()"
   ]
  },
  {
   "cell_type": "code",
   "execution_count": 8,
   "metadata": {},
   "outputs": [
    {
     "data": {
      "image/png": "[encoded data removed]",
      "text/plain": [
       "<Figure size 432x288 with 1 Axes>"
      ]
     },
     "metadata": {
      "needs_background": "light"
     },
     "output_type": "display_data"
    }
   ],
   "source": [
    "i = 1\n",
    "img1, k1 = mirror(x[i], y[i])\n",
    "xs1 = k1[::2]\n",
    "ys1 = k1[1::2]\n",
    "plt.imshow(img1, cmap='gray')\n",
    "plt.scatter(xs1, ys1)\n",
    "for i in range(14):\n",
    "    plt.annotate(i, (xs1[i], ys1[i]))\n",
    "plt.show()"
   ]
  },
  {
   "cell_type": "code",
   "execution_count": 9,
   "metadata": {},
   "outputs": [
    {
     "data": {
      "image/png": "[encoded data removed]",
      "text/plain": [
       "<Figure size 432x288 with 1 Axes>"
      ]
     },
     "metadata": {
      "needs_background": "light"
     },
     "output_type": "display_data"
    }
   ],
   "source": [
    "i = 1\n",
    "img1, k1 = rotation(x[i], y[i], 15)\n",
    "xs1 = k1[::2]\n",
    "ys1 = k1[1::2]\n",
    "plt.imshow(img1, cmap='gray')\n",
    "plt.scatter(xs1, ys1)\n",
    "for i in range(14):\n",
    "    plt.annotate(i, (xs1[i], ys1[i]))\n",
    "plt.show()"
   ]
  },
  {
   "cell_type": "code",
   "execution_count": 10,
   "metadata": {},
   "outputs": [],
   "source": [
    "x_train, x_val, y_train, y_val = train_test_split(x, y, test_size=0.1, random_state=3213)"
   ]
  },
  {
   "cell_type": "code",
   "execution_count": 11,
   "metadata": {},
   "outputs": [],
   "source": [
    "def augmentation(x, y):\n",
    "    new_x, new_y = np.zeros_like(x), np.zeros_like(y)\n",
    "    r = x.shape[0]\n",
    "    for i in tqdm(range(r)):\n",
    "        x_m, y_m = mirror(x[i], y[i])\n",
    "        new_x[i] = x_m\n",
    "        new_y[i] = y_m\n",
    "    ex = np.vstack((x, new_x))\n",
    "    ey = np.vstack((y, new_y))\n",
    "    r = ex.shape[0]\n",
    "    for ang in tqdm([-15, 15]):\n",
    "        new_x, new_y = np.zeros((r, 100, 100, 1)), np.zeros((r, 28))\n",
    "\n",
    "        for i in tqdm(range(r)):\n",
    "            x_m, y_m = rotation(ex[i], ey[i], -15)\n",
    "            new_x[i] = x_m\n",
    "            new_y[i] = y_m\n",
    "        ex = np.vstack((ex, new_x))\n",
    "        ey = np.vstack((ey, new_y))\n",
    "        print(ex.shape, ey.shape)\n",
    "    return ex, ey"
   ]
  },
  {
   "cell_type": "code",
   "execution_count": 12,
   "metadata": {},
   "outputs": [
    {
     "data": {
      "application/vnd.jupyter.widget-view+json": {
       "model_id": "72a40b07f32d46968fd559753961b8b8",
       "version_major": 2,
       "version_minor": 0
      },
      "text/plain": [
       "HBox(children=(FloatProgress(value=0.0, max=5400.0), HTML(value='')))"
      ]
     },
     "metadata": {},
     "output_type": "display_data"
    },
    {
     "name": "stdout",
     "output_type": "stream",
     "text": [
      "\n"
     ]
    },
    {
     "data": {
      "application/vnd.jupyter.widget-view+json": {
       "model_id": "98acb0cae3d94e51993e22b3b0a1c159",
       "version_major": 2,
       "version_minor": 0
      },
      "text/plain": [
       "HBox(children=(FloatProgress(value=0.0, max=2.0), HTML(value='')))"
      ]
     },
     "metadata": {},
     "output_type": "display_data"
    },
    {
     "data": {
      "application/vnd.jupyter.widget-view+json": {
       "model_id": "52c2cf96e8204e1d83de1f9b260b23f9",
       "version_major": 2,
       "version_minor": 0
      },
      "text/plain": [
       "HBox(children=(FloatProgress(value=0.0, max=10800.0), HTML(value='')))"
      ]
     },
     "metadata": {},
     "output_type": "display_data"
    },
    {
     "name": "stdout",
     "output_type": "stream",
     "text": [
      "\n",
      "(21600, 100, 100, 1) (21600, 28)\n"
     ]
    },
    {
     "data": {
      "application/vnd.jupyter.widget-view+json": {
       "model_id": "3f7a9dd8e69d4f9b80d3849370bbfb39",
       "version_major": 2,
       "version_minor": 0
      },
      "text/plain": [
       "HBox(children=(FloatProgress(value=0.0, max=10800.0), HTML(value='')))"
      ]
     },
     "metadata": {},
     "output_type": "display_data"
    },
    {
     "name": "stdout",
     "output_type": "stream",
     "text": [
      "\n",
      "(32400, 100, 100, 1) (32400, 28)\n",
      "\n"
     ]
    },
    {
     "data": {
      "application/vnd.jupyter.widget-view+json": {
       "model_id": "ea1e261701f647fdb4264dad29517571",
       "version_major": 2,
       "version_minor": 0
      },
      "text/plain": [
       "HBox(children=(FloatProgress(value=0.0, max=600.0), HTML(value='')))"
      ]
     },
     "metadata": {},
     "output_type": "display_data"
    },
    {
     "name": "stdout",
     "output_type": "stream",
     "text": [
      "\n"
     ]
    },
    {
     "data": {
      "application/vnd.jupyter.widget-view+json": {
       "model_id": "0c72f7f31a0a4b9faee0fb7dcaa6dbd5",
       "version_major": 2,
       "version_minor": 0
      },
      "text/plain": [
       "HBox(children=(FloatProgress(value=0.0, max=2.0), HTML(value='')))"
      ]
     },
     "metadata": {},
     "output_type": "display_data"
    },
    {
     "data": {
      "application/vnd.jupyter.widget-view+json": {
       "model_id": "6feff41549cd4755b46f35916e571d4b",
       "version_major": 2,
       "version_minor": 0
      },
      "text/plain": [
       "HBox(children=(FloatProgress(value=0.0, max=1200.0), HTML(value='')))"
      ]
     },
     "metadata": {},
     "output_type": "display_data"
    },
    {
     "name": "stdout",
     "output_type": "stream",
     "text": [
      "\n",
      "(2400, 100, 100, 1) (2400, 28)\n"
     ]
    },
    {
     "data": {
      "application/vnd.jupyter.widget-view+json": {
       "model_id": "8195c68743fa439a8b60ecf8b536074c",
       "version_major": 2,
       "version_minor": 0
      },
      "text/plain": [
       "HBox(children=(FloatProgress(value=0.0, max=1200.0), HTML(value='')))"
      ]
     },
     "metadata": {},
     "output_type": "display_data"
    },
    {
     "name": "stdout",
     "output_type": "stream",
     "text": [
      "\n",
      "(3600, 100, 100, 1) (3600, 28)\n",
      "\n"
     ]
    }
   ],
   "source": [
    "ex_train, ey_train = augmentation(x_train, y_train)\n",
    "ex_val, ey_val = augmentation(x_val, y_val)"
   ]
  },
  {
   "cell_type": "markdown",
   "metadata": {},
   "source": [
    "# Model 1. Kaggle"
   ]
  },
  {
   "cell_type": "code",
   "execution_count": 38,
   "metadata": {},
   "outputs": [
    {
     "name": "stdout",
     "output_type": "stream",
     "text": [
      "Model: \"sequential_5\"\n",
      "_________________________________________________________________\n",
      "Layer (type)                 Output Shape              Param #   \n",
      "=================================================================\n",
      "conv2d_46 (Conv2D)           (None, 100, 100, 32)      288       \n",
      "_________________________________________________________________\n",
      "leaky_re_lu_46 (LeakyReLU)   (None, 100, 100, 32)      0         \n",
      "_________________________________________________________________\n",
      "batch_normalization_46 (Batc (None, 100, 100, 32)      128       \n",
      "_________________________________________________________________\n",
      "max_pooling2d_22 (MaxPooling (None, 50, 50, 32)        0         \n",
      "_________________________________________________________________\n",
      "conv2d_47 (Conv2D)           (None, 50, 50, 64)        18432     \n",
      "_________________________________________________________________\n",
      "leaky_re_lu_47 (LeakyReLU)   (None, 50, 50, 64)        0         \n",
      "_________________________________________________________________\n",
      "batch_normalization_47 (Batc (None, 50, 50, 64)        256       \n",
      "_________________________________________________________________\n",
      "max_pooling2d_23 (MaxPooling (None, 25, 25, 64)        0         \n",
      "_________________________________________________________________\n",
      "conv2d_48 (Conv2D)           (None, 25, 25, 96)        55296     \n",
      "_________________________________________________________________\n",
      "leaky_re_lu_48 (LeakyReLU)   (None, 25, 25, 96)        0         \n",
      "_________________________________________________________________\n",
      "batch_normalization_48 (Batc (None, 25, 25, 96)        384       \n",
      "_________________________________________________________________\n",
      "max_pooling2d_24 (MaxPooling (None, 12, 12, 96)        0         \n",
      "_________________________________________________________________\n",
      "conv2d_49 (Conv2D)           (None, 12, 12, 128)       110592    \n",
      "_________________________________________________________________\n",
      "leaky_re_lu_49 (LeakyReLU)   (None, 12, 12, 128)       0         \n",
      "_________________________________________________________________\n",
      "batch_normalization_49 (Batc (None, 12, 12, 128)       512       \n",
      "_________________________________________________________________\n",
      "max_pooling2d_25 (MaxPooling (None, 6, 6, 128)         0         \n",
      "_________________________________________________________________\n",
      "conv2d_50 (Conv2D)           (None, 6, 6, 256)         294912    \n",
      "_________________________________________________________________\n",
      "leaky_re_lu_50 (LeakyReLU)   (None, 6, 6, 256)         0         \n",
      "_________________________________________________________________\n",
      "batch_normalization_50 (Batc (None, 6, 6, 256)         1024      \n",
      "_________________________________________________________________\n",
      "max_pooling2d_26 (MaxPooling (None, 3, 3, 256)         0         \n",
      "_________________________________________________________________\n",
      "conv2d_51 (Conv2D)           (None, 3, 3, 512)         1179648   \n",
      "_________________________________________________________________\n",
      "leaky_re_lu_51 (LeakyReLU)   (None, 3, 3, 512)         0         \n",
      "_________________________________________________________________\n",
      "batch_normalization_51 (Batc (None, 3, 3, 512)         2048      \n",
      "_________________________________________________________________\n",
      "flatten_5 (Flatten)          (None, 4608)              0         \n",
      "_________________________________________________________________\n",
      "dense_10 (Dense)             (None, 512)               2359808   \n",
      "_________________________________________________________________\n",
      "dropout_5 (Dropout)          (None, 512)               0         \n",
      "_________________________________________________________________\n",
      "dense_11 (Dense)             (None, 28)                14364     \n",
      "=================================================================\n",
      "Total params: 4,037,692\n",
      "Trainable params: 4,035,516\n",
      "Non-trainable params: 2,176\n",
      "_________________________________________________________________\n"
     ]
    }
   ],
   "source": [
    "from keras.layers.advanced_activations import LeakyReLU\n",
    "from keras.models import Sequential, Model\n",
    "from keras.layers import Activation, Convolution2D, MaxPooling2D, BatchNormalization, Flatten, Dense, Dropout, Conv2D,MaxPool2D, ZeroPadding2D\n",
    "\n",
    "\n",
    "model = Sequential()\n",
    "\n",
    "#model.add(Convolution2D(32, (3,3), padding='same', use_bias=False, input_shape=(100,100,1)))\n",
    "#model.add(LeakyReLU(alpha = 0.1))\n",
    "#model.add(BatchNormalization())\n",
    "\n",
    "model.add(Convolution2D(32, (3,3), padding='same', use_bias=False, input_shape=(100,100,1)))\n",
    "model.add(LeakyReLU(alpha = 0.1))\n",
    "model.add(BatchNormalization())\n",
    "model.add(MaxPool2D(pool_size=(2, 2)))\n",
    "\n",
    "#model.add(Convolution2D(64, (3,3), padding='same', use_bias=False))\n",
    "#model.add(LeakyReLU(alpha = 0.1))\n",
    "#model.add(BatchNormalization())\n",
    "\n",
    "model.add(Convolution2D(64, (3,3), padding='same', use_bias=False))\n",
    "model.add(LeakyReLU(alpha = 0.1))\n",
    "model.add(BatchNormalization())\n",
    "model.add(MaxPool2D(pool_size=(2, 2)))\n",
    "\n",
    "#model.add(Convolution2D(96, (3,3), padding='same', use_bias=False))\n",
    "#model.add(LeakyReLU(alpha = 0.1))\n",
    "#model.add(BatchNormalization())\n",
    "\n",
    "model.add(Convolution2D(96, (3,3), padding='same', use_bias=False))\n",
    "model.add(LeakyReLU(alpha = 0.1))\n",
    "model.add(BatchNormalization())\n",
    "model.add(MaxPool2D(pool_size=(2, 2)))\n",
    "\n",
    "#model.add(Convolution2D(128, (3,3),padding='same', use_bias=False))\n",
    "#model.add(LeakyReLU(alpha = 0.1))\n",
    "#model.add(BatchNormalization())\n",
    "\n",
    "model.add(Convolution2D(128, (3,3),padding='same', use_bias=False))\n",
    "model.add(LeakyReLU(alpha = 0.1))\n",
    "model.add(BatchNormalization())\n",
    "model.add(MaxPool2D(pool_size=(2, 2)))\n",
    "\n",
    "#model.add(Convolution2D(256, (3,3),padding='same',use_bias=False))\n",
    "#model.add(LeakyReLU(alpha = 0.1))\n",
    "#model.add(BatchNormalization())\n",
    "\n",
    "model.add(Convolution2D(256, (3,3),padding='same',use_bias=False))\n",
    "model.add(LeakyReLU(alpha = 0.1))\n",
    "model.add(BatchNormalization())\n",
    "model.add(MaxPool2D(pool_size=(2, 2)))\n",
    "\n",
    "#model.add(Convolution2D(512, (3,3), padding='same', use_bias=False))\n",
    "#model.add(LeakyReLU(alpha = 0.1))\n",
    "#model.add(BatchNormalization())\n",
    "\n",
    "model.add(Convolution2D(512, (3,3), padding='same', use_bias=False))\n",
    "model.add(LeakyReLU(alpha = 0.1))\n",
    "model.add(BatchNormalization())\n",
    "\n",
    "\n",
    "model.add(Flatten())\n",
    "model.add(Dense(512,activation='relu'))\n",
    "model.add(Dropout(0.1))\n",
    "model.add(Dense(28))\n",
    "model.summary()"
   ]
  },
  {
   "cell_type": "markdown",
   "metadata": {},
   "source": [
    "# Model 2. Naimish"
   ]
  },
  {
   "cell_type": "code",
   "execution_count": 55,
   "metadata": {},
   "outputs": [
    {
     "name": "stdout",
     "output_type": "stream",
     "text": [
      "Model: \"sequential_7\"\n",
      "_________________________________________________________________\n",
      "Layer (type)                 Output Shape              Param #   \n",
      "=================================================================\n",
      "conv2d_56 (Conv2D)           (None, 97, 97, 32)        544       \n",
      "_________________________________________________________________\n",
      "max_pooling2d_31 (MaxPooling (None, 48, 48, 32)        0         \n",
      "_________________________________________________________________\n",
      "dropout_12 (Dropout)         (None, 48, 48, 32)        0         \n",
      "_________________________________________________________________\n",
      "conv2d_57 (Conv2D)           (None, 46, 46, 64)        18496     \n",
      "_________________________________________________________________\n",
      "max_pooling2d_32 (MaxPooling (None, 23, 23, 64)        0         \n",
      "_________________________________________________________________\n",
      "dropout_13 (Dropout)         (None, 23, 23, 64)        0         \n",
      "_________________________________________________________________\n",
      "conv2d_58 (Conv2D)           (None, 22, 22, 128)       32896     \n",
      "_________________________________________________________________\n",
      "max_pooling2d_33 (MaxPooling (None, 11, 11, 128)       0         \n",
      "_________________________________________________________________\n",
      "dropout_14 (Dropout)         (None, 11, 11, 128)       0         \n",
      "_________________________________________________________________\n",
      "conv2d_59 (Conv2D)           (None, 11, 11, 256)       33024     \n",
      "_________________________________________________________________\n",
      "max_pooling2d_34 (MaxPooling (None, 5, 5, 256)         0         \n",
      "_________________________________________________________________\n",
      "dropout_15 (Dropout)         (None, 5, 5, 256)         0         \n",
      "_________________________________________________________________\n",
      "flatten_7 (Flatten)          (None, 6400)              0         \n",
      "_________________________________________________________________\n",
      "dense_15 (Dense)             (None, 1000)              6401000   \n",
      "_________________________________________________________________\n",
      "dropout_16 (Dropout)         (None, 1000)              0         \n",
      "_________________________________________________________________\n",
      "dense_16 (Dense)             (None, 1000)              1001000   \n",
      "_________________________________________________________________\n",
      "dropout_17 (Dropout)         (None, 1000)              0         \n",
      "_________________________________________________________________\n",
      "dense_17 (Dense)             (None, 28)                28028     \n",
      "=================================================================\n",
      "Total params: 7,514,988\n",
      "Trainable params: 7,514,988\n",
      "Non-trainable params: 0\n",
      "_________________________________________________________________\n"
     ]
    }
   ],
   "source": [
    "model = keras.models.Sequential()\n",
    "\n",
    "model.add(keras.layers.Conv2D(32, (4,4), activation='elu', input_shape=(100,100,1)))\n",
    "model.add(keras.layers.MaxPool2D(pool_size=(2, 2)))\n",
    "model.add(keras.layers.Dropout(0.1))\n",
    "\n",
    "model.add(keras.layers.Conv2D(64, (3,3), activation='elu'))\n",
    "model.add(keras.layers.MaxPool2D(pool_size=(2, 2)))\n",
    "model.add(keras.layers.Dropout(0.2))\n",
    "\n",
    "model.add(keras.layers.Conv2D(128, (2,2), activation='elu'))\n",
    "model.add(keras.layers.MaxPool2D(pool_size=(2, 2)))\n",
    "model.add(keras.layers.Dropout(0.3))\n",
    "\n",
    "model.add(keras.layers.Conv2D(256, (1,1), activation='elu'))\n",
    "model.add(keras.layers.MaxPool2D(pool_size=(2, 2)))\n",
    "model.add(keras.layers.Dropout(0.4))\n",
    "\n",
    "model.add(keras.layers.Flatten())\n",
    "model.add(keras.layers.Dense(1000, activation='elu'))\n",
    "model.add(keras.layers.Dropout(0.5))\n",
    "model.add(keras.layers.Dense(1000, activation='linear'))\n",
    "model.add(keras.layers.Dropout(0.6))\n",
    "model.add(keras.layers.Dense(28))\n",
    "model.summary()"
   ]
  },
  {
   "cell_type": "markdown",
   "metadata": {},
   "source": [
    "# Model 3"
   ]
  },
  {
   "cell_type": "code",
   "execution_count": 41,
   "metadata": {},
   "outputs": [
    {
     "name": "stdout",
     "output_type": "stream",
     "text": [
      "Model: \"sequential_4\"\n",
      "_________________________________________________________________\n",
      "Layer (type)                 Output Shape              Param #   \n",
      "=================================================================\n",
      "conv2d_19 (Conv2D)           (None, 98, 98, 32)        320       \n",
      "_________________________________________________________________\n",
      "conv2d_20 (Conv2D)           (None, 96, 96, 32)        9248      \n",
      "_________________________________________________________________\n",
      "max_pooling2d_11 (MaxPooling (None, 48, 48, 32)        0         \n",
      "_________________________________________________________________\n",
      "conv2d_21 (Conv2D)           (None, 47, 47, 64)        8256      \n",
      "_________________________________________________________________\n",
      "max_pooling2d_12 (MaxPooling (None, 23, 23, 64)        0         \n",
      "_________________________________________________________________\n",
      "conv2d_22 (Conv2D)           (None, 22, 22, 128)       32896     \n",
      "_________________________________________________________________\n",
      "max_pooling2d_13 (MaxPooling (None, 11, 11, 128)       0         \n",
      "_________________________________________________________________\n",
      "conv2d_23 (Conv2D)           (None, 10, 10, 256)       131328    \n",
      "_________________________________________________________________\n",
      "max_pooling2d_14 (MaxPooling (None, 5, 5, 256)         0         \n",
      "_________________________________________________________________\n",
      "flatten_3 (Flatten)          (None, 6400)              0         \n",
      "_________________________________________________________________\n",
      "dense_7 (Dense)              (None, 1024)              6554624   \n",
      "_________________________________________________________________\n",
      "dropout_3 (Dropout)          (None, 1024)              0         \n",
      "_________________________________________________________________\n",
      "dense_8 (Dense)              (None, 1024)              1049600   \n",
      "_________________________________________________________________\n",
      "dropout_4 (Dropout)          (None, 1024)              0         \n",
      "_________________________________________________________________\n",
      "dense_9 (Dense)              (None, 28)                28700     \n",
      "=================================================================\n",
      "Total params: 7,814,972\n",
      "Trainable params: 7,814,972\n",
      "Non-trainable params: 0\n",
      "_________________________________________________________________\n"
     ]
    }
   ],
   "source": [
    "model = Sequential() # Создаём модель\n",
    "    \n",
    "model.add(keras.layers.Conv2D(32, (3, 3), padding='valid', activation='relu', input_shape=(100, 100, 1)))\n",
    "model.add(keras.layers.Conv2D(32, (3, 3), padding='valid', activation='relu'))\n",
    "#model.add(BatchNormalization())\n",
    "model.add(keras.layers.MaxPooling2D((2, 2)))\n",
    "\n",
    "model.add(keras.layers.Conv2D(64, (2, 2), padding='valid', activation='relu'))\n",
    "#model.add(BatchNormalization())\n",
    "model.add(keras.layers.MaxPooling2D((2, 2)))\n",
    "\n",
    "model.add(keras.layers.Conv2D(128, (2, 2), padding='valid', activation='relu'))\n",
    "#model.add(BatchNormalization())\n",
    "model.add(keras.layers.MaxPooling2D((2, 2)))\n",
    "\n",
    "model.add(keras.layers.Conv2D(256, (2, 2), padding='valid', activation='relu'))\n",
    "#model.add(BatchNormalization())\n",
    "model.add(keras.layers.MaxPooling2D((2, 2)))\n",
    "\n",
    "model.add(keras.layers.Flatten()) # сплющивание в вектор чтобы вставить Dense слой\n",
    "\n",
    "model.add(keras.layers.Dense(1024, activation='relu'))\n",
    "model.add(keras.layers.Dropout(0.4))\n",
    "\n",
    "model.add(keras.layers.Dense(1024, activation='relu'))\n",
    "model.add(keras.layers.Dropout(0.4))\n",
    "\n",
    "model.add(keras.layers.Dense(14 * 2, activation='relu')) \n",
    "\n",
    "model.summary()"
   ]
  },
  {
   "cell_type": "markdown",
   "metadata": {},
   "source": [
    "# Model 4. Github"
   ]
  },
  {
   "cell_type": "code",
   "execution_count": 36,
   "metadata": {},
   "outputs": [
    {
     "name": "stdout",
     "output_type": "stream",
     "text": [
      "Model: \"sequential_3\"\n",
      "_________________________________________________________________\n",
      "Layer (type)                 Output Shape              Param #   \n",
      "=================================================================\n",
      "conv2d_11 (Conv2D)           (None, 98, 98, 32)        320       \n",
      "_________________________________________________________________\n",
      "max_pooling2d_7 (MaxPooling2 (None, 49, 49, 32)        0         \n",
      "_________________________________________________________________\n",
      "conv2d_12 (Conv2D)           (None, 47, 47, 64)        18496     \n",
      "_________________________________________________________________\n",
      "conv2d_13 (Conv2D)           (None, 45, 45, 64)        36928     \n",
      "_________________________________________________________________\n",
      "max_pooling2d_8 (MaxPooling2 (None, 22, 22, 64)        0         \n",
      "_________________________________________________________________\n",
      "conv2d_14 (Conv2D)           (None, 20, 20, 64)        36928     \n",
      "_________________________________________________________________\n",
      "conv2d_15 (Conv2D)           (None, 18, 18, 64)        36928     \n",
      "_________________________________________________________________\n",
      "max_pooling2d_9 (MaxPooling2 (None, 9, 9, 64)          0         \n",
      "_________________________________________________________________\n",
      "conv2d_16 (Conv2D)           (None, 7, 7, 128)         73856     \n",
      "_________________________________________________________________\n",
      "conv2d_17 (Conv2D)           (None, 5, 5, 128)         147584    \n",
      "_________________________________________________________________\n",
      "max_pooling2d_10 (MaxPooling (None, 4, 4, 128)         0         \n",
      "_________________________________________________________________\n",
      "conv2d_18 (Conv2D)           (None, 2, 2, 256)         295168    \n",
      "_________________________________________________________________\n",
      "flatten_2 (Flatten)          (None, 1024)              0         \n",
      "_________________________________________________________________\n",
      "dense_5 (Dense)              (None, 1024)              1049600   \n",
      "_________________________________________________________________\n",
      "dense_6 (Dense)              (None, 28)                28700     \n",
      "=================================================================\n",
      "Total params: 1,724,508\n",
      "Trainable params: 1,724,508\n",
      "Non-trainable params: 0\n",
      "_________________________________________________________________\n"
     ]
    }
   ],
   "source": [
    "model = keras.models.Sequential()\n",
    "    \n",
    "model.add(keras.layers.Conv2D(filters=32, kernel_size=(3, 3), activation='relu', input_shape=(100, 100, 1)))\n",
    "model.add(keras.layers.MaxPool2D(pool_size=(2, 2), strides=(2, 2), padding='valid'))\n",
    "\n",
    "model.add(keras.layers.Conv2D(filters=64, kernel_size=(3, 3), strides=(1, 1), padding='valid', activation='relu'))\n",
    "model.add(keras.layers.Conv2D(filters=64, kernel_size=(3, 3), strides=(1, 1), padding='valid', activation=tf.nn.relu))\n",
    "model.add(keras.layers.MaxPool2D(pool_size=(2, 2), strides=(2, 2), padding='valid'))\n",
    "\n",
    "model.add(keras.layers.Conv2D(filters=64, kernel_size=(3, 3), strides=(1, 1), padding='valid', activation='relu'))\n",
    "model.add(keras.layers.Conv2D(filters=64, kernel_size=[3, 3], strides=(1, 1), padding='valid', activation='relu'))\n",
    "model.add(keras.layers.MaxPool2D(pool_size=(2, 2), strides=(2, 2), padding='valid'))\n",
    "\n",
    "model.add(keras.layers.Conv2D(filters=128, kernel_size=(3, 3), strides=(1, 1), padding='valid', activation='relu'))\n",
    "model.add(keras.layers.Conv2D(filters=128, kernel_size=[3, 3], strides=(1, 1), padding='valid', activation='relu'))\n",
    "model.add(keras.layers.MaxPool2D(pool_size=[2, 2], strides=(1, 1), padding='valid'))\n",
    "\n",
    "model.add(keras.layers.Conv2D(filters=256, kernel_size=[3, 3], strides=(1, 1), padding='valid', activation='relu'))\n",
    "\n",
    "model.add(keras.layers.Flatten())\n",
    "model.add(keras.layers.Dense(units=1024, activation='relu', use_bias=True))\n",
    "model.add(keras.layers.Dense(units=28, activation=None, use_bias=True))\n",
    "\n",
    "model.summary()"
   ]
  },
  {
   "cell_type": "markdown",
   "metadata": {},
   "source": [
    "# Model 5."
   ]
  },
  {
   "cell_type": "code",
   "execution_count": 31,
   "metadata": {},
   "outputs": [],
   "source": [
    "import keras\n",
    "from keras.regularizers import l2\n",
    "from keras.models import Sequential\n",
    "from keras.layers import Dense, Dropout, Flatten\n",
    "from keras.layers.convolutional import Conv2D, MaxPooling2D\n",
    "from keras.layers.local import LocallyConnected2D\n",
    "from keras.layers.normalization import BatchNormalization\n",
    "from keras.utils import np_utils\n",
    "from keras import regularizers\n",
    "\n",
    "model = Sequential()\n",
    "model.add(Conv2D(20, kernel_size=(5, 5), activation='relu', \n",
    "                 input_shape=(100, 100, 1),\n",
    "                 kernel_initializer='he_uniform'))\n",
    "model.add(MaxPooling2D(pool_size=(2, 2)))\n",
    "model.add(BatchNormalization())\n",
    "\n",
    "model.add(Conv2D(40, kernel_size=(5, 5), activation='relu',\n",
    "                 kernel_initializer='he_uniform'))\n",
    "model.add(MaxPooling2D(pool_size=(2, 2)))\n",
    "model.add(BatchNormalization())\n",
    "\n",
    "model.add(Conv2D(60, kernel_size=(3, 3), activation='relu',\n",
    "                 kernel_initializer='he_uniform'))\n",
    "model.add(MaxPooling2D(pool_size=(2, 2)))\n",
    "model.add(BatchNormalization())\n",
    "\n",
    "model.add(LocallyConnected2D(80, (3, 3), activation='relu',\n",
    "                 kernel_initializer='he_uniform'))\n",
    "\n",
    "\n",
    "model.add(Flatten())\n",
    "\n",
    "\n",
    "model.add(Dropout(0.25))\n",
    "model.add(Dense(900, activation='relu',kernel_initializer='he_uniform'))\n",
    "model.add(Dropout(0.25))\n",
    "model.add(Dense(300, activation='relu',kernel_initializer='he_uniform'))\n",
    "model.add(Dropout(0.25))\n",
    "\n",
    "model.add(Dense(28, activation='relu',\n",
    "                kernel_initializer='he_uniform'))"
   ]
  },
  {
   "cell_type": "code",
   "execution_count": 50,
   "metadata": {},
   "outputs": [],
   "source": [
    "ex_train = (ex_train - np.mean(ex_train)) / np.std(ex_train)\n",
    "ex_val = (ex_val - np.mean(ex_val)) / np.std(ex_val)"
   ]
  },
  {
   "cell_type": "code",
   "execution_count": 51,
   "metadata": {},
   "outputs": [
    {
     "data": {
      "text/plain": [
       "(-1.4384192054197307e-17, 1.0, 2.3596334762664305e-17, 1.0)"
      ]
     },
     "execution_count": 51,
     "metadata": {},
     "output_type": "execute_result"
    }
   ],
   "source": [
    "np.mean(ex_train), np.std(ex_train), np.mean(ex_val), np.std(ex_val)"
   ]
  },
  {
   "cell_type": "code",
   "execution_count": 56,
   "metadata": {},
   "outputs": [
    {
     "data": {
      "text/plain": [
       "((32400, 100, 100, 1), (32400, 28), (3600, 100, 100, 1), (3600, 28))"
      ]
     },
     "execution_count": 56,
     "metadata": {},
     "output_type": "execute_result"
    }
   ],
   "source": [
    "ex_train.shape, ey_train.shape, ex_val.shape, ey_val.shape"
   ]
  },
  {
   "cell_type": "code",
   "execution_count": 57,
   "metadata": {},
   "outputs": [],
   "source": [
    "#optim = keras.optimizers.Adam(learning_rate=0.001, beta_1=0.9, beta_2=0.999, epsilon=1e-08)\n",
    "model.compile(optimizer = 'adam', loss = 'mse')\n",
    "reducelr = keras.callbacks.ReduceLROnPlateau(monitor = 'val_loss', factor = 0.5, patience = 5, verbose = 1)\n",
    "earlystop = keras.callbacks.EarlyStopping(monitor = 'val_loss', patience = 10)"
   ]
  },
  {
   "cell_type": "code",
   "execution_count": 58,
   "metadata": {},
   "outputs": [
    {
     "name": "stdout",
     "output_type": "stream",
     "text": [
      "Epoch 1/100\n",
      "254/254 [==============================] - 13s 51ms/step - loss: 98.5057 - val_loss: 32.9564\n",
      "Epoch 2/100\n",
      "254/254 [==============================] - 5s 21ms/step - loss: 41.8613 - val_loss: 37.9075\n",
      "Epoch 3/100\n",
      "254/254 [==============================] - 5s 21ms/step - loss: 37.0466 - val_loss: 39.4128\n",
      "Epoch 4/100\n",
      "254/254 [==============================] - 5s 21ms/step - loss: 34.0763 - val_loss: 25.5567\n",
      "Epoch 5/100\n",
      "254/254 [==============================] - 5s 21ms/step - loss: 31.6918 - val_loss: 34.9486\n",
      "Epoch 6/100\n",
      "254/254 [==============================] - 5s 21ms/step - loss: 29.6246 - val_loss: 21.7366\n",
      "Epoch 7/100\n",
      "254/254 [==============================] - 5s 21ms/step - loss: 27.9535 - val_loss: 15.7862\n",
      "Epoch 8/100\n",
      "254/254 [==============================] - 5s 21ms/step - loss: 26.7203 - val_loss: 14.7586\n",
      "Epoch 9/100\n",
      "254/254 [==============================] - 5s 21ms/step - loss: 26.0868 - val_loss: 14.3205\n",
      "Epoch 10/100\n",
      "254/254 [==============================] - 5s 21ms/step - loss: 24.6098 - val_loss: 16.5348\n",
      "Epoch 11/100\n",
      "254/254 [==============================] - 5s 21ms/step - loss: 24.2210 - val_loss: 13.2969\n",
      "Epoch 12/100\n",
      "254/254 [==============================] - 5s 21ms/step - loss: 24.0747 - val_loss: 12.3607\n",
      "Epoch 13/100\n",
      "254/254 [==============================] - 5s 21ms/step - loss: 23.5239 - val_loss: 16.4887\n",
      "Epoch 14/100\n",
      "254/254 [==============================] - 5s 21ms/step - loss: 23.1252 - val_loss: 11.5044\n",
      "Epoch 15/100\n",
      "254/254 [==============================] - 5s 21ms/step - loss: 23.4797 - val_loss: 18.3268\n",
      "Epoch 16/100\n",
      "254/254 [==============================] - 5s 21ms/step - loss: 23.1431 - val_loss: 11.8570\n",
      "Epoch 17/100\n",
      "254/254 [==============================] - 5s 21ms/step - loss: 23.0170 - val_loss: 18.8121\n",
      "Epoch 18/100\n",
      "254/254 [==============================] - 5s 21ms/step - loss: 22.9663 - val_loss: 10.8607\n",
      "Epoch 19/100\n",
      "254/254 [==============================] - 5s 21ms/step - loss: 22.4836 - val_loss: 11.4745\n",
      "Epoch 20/100\n",
      "254/254 [==============================] - 5s 21ms/step - loss: 22.5252 - val_loss: 11.5658\n",
      "Epoch 21/100\n",
      "254/254 [==============================] - 5s 21ms/step - loss: 22.2644 - val_loss: 10.5789\n",
      "Epoch 22/100\n",
      "254/254 [==============================] - 5s 21ms/step - loss: 22.5157 - val_loss: 10.6593\n",
      "Epoch 23/100\n",
      "254/254 [==============================] - 5s 21ms/step - loss: 22.3307 - val_loss: 10.6107\n",
      "Epoch 24/100\n",
      "254/254 [==============================] - 5s 21ms/step - loss: 21.9964 - val_loss: 10.4132\n",
      "Epoch 25/100\n",
      "254/254 [==============================] - 5s 21ms/step - loss: 22.5202 - val_loss: 14.8957\n",
      "Epoch 26/100\n",
      "254/254 [==============================] - 5s 21ms/step - loss: 21.9230 - val_loss: 10.8675\n",
      "Epoch 27/100\n",
      "254/254 [==============================] - 5s 21ms/step - loss: 21.8124 - val_loss: 12.0396\n",
      "Epoch 28/100\n",
      "254/254 [==============================] - 6s 22ms/step - loss: 21.9572 - val_loss: 11.1698\n",
      "Epoch 29/100\n",
      "251/254 [============================>.] - ETA: 0s - loss: 22.0432\n",
      "Epoch 00029: ReduceLROnPlateau reducing learning rate to 0.0005000000237487257.\n",
      "254/254 [==============================] - 6s 22ms/step - loss: 22.0506 - val_loss: 12.2652\n",
      "Epoch 30/100\n",
      "254/254 [==============================] - 5s 21ms/step - loss: 19.8576 - val_loss: 9.5333\n",
      "Epoch 31/100\n",
      "254/254 [==============================] - 5s 21ms/step - loss: 19.5869 - val_loss: 9.5299\n",
      "Epoch 32/100\n",
      "254/254 [==============================] - 5s 21ms/step - loss: 19.3123 - val_loss: 9.3933\n",
      "Epoch 33/100\n",
      "254/254 [==============================] - 5s 21ms/step - loss: 19.2566 - val_loss: 8.6211\n",
      "Epoch 34/100\n",
      "254/254 [==============================] - 5s 21ms/step - loss: 19.6117 - val_loss: 8.9608\n",
      "Epoch 35/100\n",
      "254/254 [==============================] - 5s 21ms/step - loss: 19.1571 - val_loss: 9.0801\n",
      "Epoch 36/100\n",
      "254/254 [==============================] - 5s 21ms/step - loss: 19.1890 - val_loss: 8.8504\n",
      "Epoch 37/100\n",
      "254/254 [==============================] - 6s 22ms/step - loss: 19.2983 - val_loss: 8.9463\n",
      "Epoch 38/100\n",
      "252/254 [============================>.] - ETA: 0s - loss: 19.1775\n",
      "Epoch 00038: ReduceLROnPlateau reducing learning rate to 0.0002500000118743628.\n",
      "254/254 [==============================] - 5s 21ms/step - loss: 19.1807 - val_loss: 11.1567\n",
      "Epoch 39/100\n",
      "254/254 [==============================] - 5s 21ms/step - loss: 18.3599 - val_loss: 8.5776\n",
      "Epoch 40/100\n",
      "254/254 [==============================] - 5s 21ms/step - loss: 17.9787 - val_loss: 9.9169\n",
      "Epoch 41/100\n",
      "254/254 [==============================] - 5s 22ms/step - loss: 18.2049 - val_loss: 8.8353\n",
      "Epoch 42/100\n",
      "254/254 [==============================] - 5s 21ms/step - loss: 18.0520 - val_loss: 8.7510\n",
      "Epoch 43/100\n",
      "254/254 [==============================] - 5s 21ms/step - loss: 18.0222 - val_loss: 8.5939\n",
      "Epoch 44/100\n",
      "253/254 [============================>.] - ETA: 0s - loss: 18.1225\n",
      "Epoch 00044: ReduceLROnPlateau reducing learning rate to 0.0001250000059371814.\n",
      "254/254 [==============================] - 6s 22ms/step - loss: 18.1219 - val_loss: 8.8392\n",
      "Epoch 45/100\n",
      "254/254 [==============================] - 5s 21ms/step - loss: 17.6584 - val_loss: 8.4532\n",
      "Epoch 46/100\n",
      "254/254 [==============================] - 5s 21ms/step - loss: 17.3610 - val_loss: 8.3802\n",
      "Epoch 47/100\n",
      "254/254 [==============================] - 5s 21ms/step - loss: 17.3323 - val_loss: 9.0339\n",
      "Epoch 48/100\n",
      "254/254 [==============================] - 5s 21ms/step - loss: 17.4262 - val_loss: 8.3429\n",
      "Epoch 49/100\n",
      "254/254 [==============================] - 5s 21ms/step - loss: 17.2427 - val_loss: 8.3246\n",
      "Epoch 50/100\n",
      "254/254 [==============================] - 5s 21ms/step - loss: 17.4010 - val_loss: 8.4683\n",
      "Epoch 51/100\n",
      "254/254 [==============================] - 5s 22ms/step - loss: 17.2246 - val_loss: 8.4300\n",
      "Epoch 52/100\n",
      "254/254 [==============================] - 5s 22ms/step - loss: 17.2138 - val_loss: 8.2664\n",
      "Epoch 53/100\n",
      "254/254 [==============================] - 5s 21ms/step - loss: 17.2988 - val_loss: 8.2969\n",
      "Epoch 54/100\n",
      "254/254 [==============================] - 5s 21ms/step - loss: 17.2804 - val_loss: 8.1128\n",
      "Epoch 55/100\n",
      "254/254 [==============================] - 6s 22ms/step - loss: 17.0859 - val_loss: 8.5325\n",
      "Epoch 56/100\n",
      "254/254 [==============================] - 6s 22ms/step - loss: 17.2433 - val_loss: 8.2921\n",
      "Epoch 57/100\n",
      "254/254 [==============================] - 5s 21ms/step - loss: 17.2169 - val_loss: 8.3958\n",
      "Epoch 58/100\n",
      "254/254 [==============================] - 5s 20ms/step - loss: 16.9984 - val_loss: 8.1925\n",
      "Epoch 59/100\n",
      "253/254 [============================>.] - ETA: 0s - loss: 17.0370\n",
      "Epoch 00059: ReduceLROnPlateau reducing learning rate to 6.25000029685907e-05.\n",
      "254/254 [==============================] - 5s 21ms/step - loss: 17.0335 - val_loss: 8.5519\n",
      "Epoch 60/100\n",
      "254/254 [==============================] - 5s 20ms/step - loss: 16.9209 - val_loss: 8.3654\n",
      "Epoch 61/100\n",
      "254/254 [==============================] - 6s 22ms/step - loss: 16.8562 - val_loss: 8.3794\n",
      "Epoch 62/100\n",
      "254/254 [==============================] - 6s 22ms/step - loss: 16.8032 - val_loss: 8.3159\n",
      "Epoch 63/100\n",
      "254/254 [==============================] - 5s 21ms/step - loss: 17.0447 - val_loss: 8.3131\n",
      "Epoch 64/100\n",
      "253/254 [============================>.] - ETA: 0s - loss: 16.8154\n",
      "Epoch 00064: ReduceLROnPlateau reducing learning rate to 3.125000148429535e-05.\n",
      "254/254 [==============================] - 5s 21ms/step - loss: 16.8134 - val_loss: 8.6516\n",
      "Epoch 65/100\n",
      "254/254 [==============================] - 5s 21ms/step - loss: 16.6399 - val_loss: 8.2821\n",
      "Epoch 66/100\n",
      "254/254 [==============================] - 6s 22ms/step - loss: 16.6707 - val_loss: 8.0711\n",
      "Epoch 67/100\n",
      "254/254 [==============================] - 6s 22ms/step - loss: 16.6483 - val_loss: 8.2779\n",
      "Epoch 68/100\n",
      "254/254 [==============================] - 5s 21ms/step - loss: 16.5074 - val_loss: 8.3623\n",
      "Epoch 69/100\n",
      "254/254 [==============================] - 5s 21ms/step - loss: 16.6829 - val_loss: 8.0988\n",
      "Epoch 70/100\n",
      "254/254 [==============================] - 5s 21ms/step - loss: 16.6641 - val_loss: 8.1880\n",
      "Epoch 71/100\n",
      "253/254 [============================>.] - ETA: 0s - loss: 16.5465\n",
      "Epoch 00071: ReduceLROnPlateau reducing learning rate to 1.5625000742147677e-05.\n",
      "254/254 [==============================] - 5s 21ms/step - loss: 16.5445 - val_loss: 8.2502\n"
     ]
    },
    {
     "name": "stdout",
     "output_type": "stream",
     "text": [
      "Epoch 72/100\n",
      "254/254 [==============================] - 5s 21ms/step - loss: 16.6634 - val_loss: 8.1555\n",
      "Epoch 73/100\n",
      "254/254 [==============================] - 5s 21ms/step - loss: 16.4277 - val_loss: 8.1205\n",
      "Epoch 74/100\n",
      "254/254 [==============================] - 5s 21ms/step - loss: 16.5638 - val_loss: 8.1770\n",
      "Epoch 75/100\n",
      "254/254 [==============================] - 5s 21ms/step - loss: 16.5906 - val_loss: 8.1524\n",
      "Epoch 76/100\n",
      "253/254 [============================>.] - ETA: 0s - loss: 16.6303\n",
      "Epoch 00076: ReduceLROnPlateau reducing learning rate to 7.812500371073838e-06.\n",
      "254/254 [==============================] - 6s 23ms/step - loss: 16.6301 - val_loss: 8.1019\n",
      "Epoch 77/100\n",
      "254/254 [==============================] - 5s 20ms/step - loss: 16.4154 - val_loss: 8.1651\n",
      "Epoch 78/100\n",
      "254/254 [==============================] - 5s 20ms/step - loss: 16.3673 - val_loss: 8.1195\n",
      "Epoch 79/100\n",
      "254/254 [==============================] - 6s 22ms/step - loss: 16.5304 - val_loss: 8.1371\n",
      "Epoch 80/100\n",
      "238/254 [===========================>..] - ETA: 0s - loss: 16.5675"
     ]
    },
    {
     "ename": "KeyboardInterrupt",
     "evalue": "",
     "output_type": "error",
     "traceback": [
      "\u001b[0;31m---------------------------------------------------------------------------\u001b[0m",
      "\u001b[0;31mKeyboardInterrupt\u001b[0m                         Traceback (most recent call last)",
      "\u001b[0;32m<ipython-input-58-2b432a9fb95a>\u001b[0m in \u001b[0;36m<module>\u001b[0;34m\u001b[0m\n\u001b[0;32m----> 1\u001b[0;31m tfhistory = model.fit(ex_train.astype('float32'), ey_train.astype('float32'), batch_size=128, shuffle=True,\n\u001b[0m\u001b[1;32m      2\u001b[0m                       \u001b[0mepochs\u001b[0m\u001b[0;34m=\u001b[0m\u001b[0;36m100\u001b[0m\u001b[0;34m,\u001b[0m \u001b[0mvalidation_data\u001b[0m\u001b[0;34m=\u001b[0m\u001b[0;34m(\u001b[0m\u001b[0mex_val\u001b[0m\u001b[0;34m.\u001b[0m\u001b[0mastype\u001b[0m\u001b[0;34m(\u001b[0m\u001b[0;34m'float32'\u001b[0m\u001b[0;34m)\u001b[0m\u001b[0;34m,\u001b[0m \u001b[0mey_val\u001b[0m\u001b[0;34m.\u001b[0m\u001b[0mastype\u001b[0m\u001b[0;34m(\u001b[0m\u001b[0;34m'float32'\u001b[0m\u001b[0;34m)\u001b[0m\u001b[0;34m)\u001b[0m\u001b[0;34m,\u001b[0m\u001b[0;34m\u001b[0m\u001b[0;34m\u001b[0m\u001b[0m\n\u001b[1;32m      3\u001b[0m                       callbacks=[reducelr])\n",
      "\u001b[0;32m~/.local/lib/python3.8/site-packages/tensorflow/python/keras/engine/training.py\u001b[0m in \u001b[0;36m_method_wrapper\u001b[0;34m(self, *args, **kwargs)\u001b[0m\n\u001b[1;32m    106\u001b[0m   \u001b[0;32mdef\u001b[0m \u001b[0m_method_wrapper\u001b[0m\u001b[0;34m(\u001b[0m\u001b[0mself\u001b[0m\u001b[0;34m,\u001b[0m \u001b[0;34m*\u001b[0m\u001b[0margs\u001b[0m\u001b[0;34m,\u001b[0m \u001b[0;34m**\u001b[0m\u001b[0mkwargs\u001b[0m\u001b[0;34m)\u001b[0m\u001b[0;34m:\u001b[0m\u001b[0;34m\u001b[0m\u001b[0;34m\u001b[0m\u001b[0m\n\u001b[1;32m    107\u001b[0m     \u001b[0;32mif\u001b[0m \u001b[0;32mnot\u001b[0m \u001b[0mself\u001b[0m\u001b[0;34m.\u001b[0m\u001b[0m_in_multi_worker_mode\u001b[0m\u001b[0;34m(\u001b[0m\u001b[0;34m)\u001b[0m\u001b[0;34m:\u001b[0m  \u001b[0;31m# pylint: disable=protected-access\u001b[0m\u001b[0;34m\u001b[0m\u001b[0;34m\u001b[0m\u001b[0m\n\u001b[0;32m--> 108\u001b[0;31m       \u001b[0;32mreturn\u001b[0m \u001b[0mmethod\u001b[0m\u001b[0;34m(\u001b[0m\u001b[0mself\u001b[0m\u001b[0;34m,\u001b[0m \u001b[0;34m*\u001b[0m\u001b[0margs\u001b[0m\u001b[0;34m,\u001b[0m \u001b[0;34m**\u001b[0m\u001b[0mkwargs\u001b[0m\u001b[0;34m)\u001b[0m\u001b[0;34m\u001b[0m\u001b[0;34m\u001b[0m\u001b[0m\n\u001b[0m\u001b[1;32m    109\u001b[0m \u001b[0;34m\u001b[0m\u001b[0m\n\u001b[1;32m    110\u001b[0m     \u001b[0;31m# Running inside `run_distribute_coordinator` already.\u001b[0m\u001b[0;34m\u001b[0m\u001b[0;34m\u001b[0m\u001b[0;34m\u001b[0m\u001b[0m\n",
      "\u001b[0;32m~/.local/lib/python3.8/site-packages/tensorflow/python/keras/engine/training.py\u001b[0m in \u001b[0;36mfit\u001b[0;34m(self, x, y, batch_size, epochs, verbose, callbacks, validation_split, validation_data, shuffle, class_weight, sample_weight, initial_epoch, steps_per_epoch, validation_steps, validation_batch_size, validation_freq, max_queue_size, workers, use_multiprocessing)\u001b[0m\n\u001b[1;32m   1096\u001b[0m                 batch_size=batch_size):\n\u001b[1;32m   1097\u001b[0m               \u001b[0mcallbacks\u001b[0m\u001b[0;34m.\u001b[0m\u001b[0mon_train_batch_begin\u001b[0m\u001b[0;34m(\u001b[0m\u001b[0mstep\u001b[0m\u001b[0;34m)\u001b[0m\u001b[0;34m\u001b[0m\u001b[0;34m\u001b[0m\u001b[0m\n\u001b[0;32m-> 1098\u001b[0;31m               \u001b[0mtmp_logs\u001b[0m \u001b[0;34m=\u001b[0m \u001b[0mtrain_function\u001b[0m\u001b[0;34m(\u001b[0m\u001b[0miterator\u001b[0m\u001b[0;34m)\u001b[0m\u001b[0;34m\u001b[0m\u001b[0;34m\u001b[0m\u001b[0m\n\u001b[0m\u001b[1;32m   1099\u001b[0m               \u001b[0;32mif\u001b[0m \u001b[0mdata_handler\u001b[0m\u001b[0;34m.\u001b[0m\u001b[0mshould_sync\u001b[0m\u001b[0;34m:\u001b[0m\u001b[0;34m\u001b[0m\u001b[0;34m\u001b[0m\u001b[0m\n\u001b[1;32m   1100\u001b[0m                 \u001b[0mcontext\u001b[0m\u001b[0;34m.\u001b[0m\u001b[0masync_wait\u001b[0m\u001b[0;34m(\u001b[0m\u001b[0;34m)\u001b[0m\u001b[0;34m\u001b[0m\u001b[0;34m\u001b[0m\u001b[0m\n",
      "\u001b[0;32m~/.local/lib/python3.8/site-packages/tensorflow/python/eager/def_function.py\u001b[0m in \u001b[0;36m__call__\u001b[0;34m(self, *args, **kwds)\u001b[0m\n\u001b[1;32m    778\u001b[0m       \u001b[0;32melse\u001b[0m\u001b[0;34m:\u001b[0m\u001b[0;34m\u001b[0m\u001b[0;34m\u001b[0m\u001b[0m\n\u001b[1;32m    779\u001b[0m         \u001b[0mcompiler\u001b[0m \u001b[0;34m=\u001b[0m \u001b[0;34m\"nonXla\"\u001b[0m\u001b[0;34m\u001b[0m\u001b[0;34m\u001b[0m\u001b[0m\n\u001b[0;32m--> 780\u001b[0;31m         \u001b[0mresult\u001b[0m \u001b[0;34m=\u001b[0m \u001b[0mself\u001b[0m\u001b[0;34m.\u001b[0m\u001b[0m_call\u001b[0m\u001b[0;34m(\u001b[0m\u001b[0;34m*\u001b[0m\u001b[0margs\u001b[0m\u001b[0;34m,\u001b[0m \u001b[0;34m**\u001b[0m\u001b[0mkwds\u001b[0m\u001b[0;34m)\u001b[0m\u001b[0;34m\u001b[0m\u001b[0;34m\u001b[0m\u001b[0m\n\u001b[0m\u001b[1;32m    781\u001b[0m \u001b[0;34m\u001b[0m\u001b[0m\n\u001b[1;32m    782\u001b[0m       \u001b[0mnew_tracing_count\u001b[0m \u001b[0;34m=\u001b[0m \u001b[0mself\u001b[0m\u001b[0;34m.\u001b[0m\u001b[0m_get_tracing_count\u001b[0m\u001b[0;34m(\u001b[0m\u001b[0;34m)\u001b[0m\u001b[0;34m\u001b[0m\u001b[0;34m\u001b[0m\u001b[0m\n",
      "\u001b[0;32m~/.local/lib/python3.8/site-packages/tensorflow/python/eager/def_function.py\u001b[0m in \u001b[0;36m_call\u001b[0;34m(self, *args, **kwds)\u001b[0m\n\u001b[1;32m    805\u001b[0m       \u001b[0;31m# In this case we have created variables on the first call, so we run the\u001b[0m\u001b[0;34m\u001b[0m\u001b[0;34m\u001b[0m\u001b[0;34m\u001b[0m\u001b[0m\n\u001b[1;32m    806\u001b[0m       \u001b[0;31m# defunned version which is guaranteed to never create variables.\u001b[0m\u001b[0;34m\u001b[0m\u001b[0;34m\u001b[0m\u001b[0;34m\u001b[0m\u001b[0m\n\u001b[0;32m--> 807\u001b[0;31m       \u001b[0;32mreturn\u001b[0m \u001b[0mself\u001b[0m\u001b[0;34m.\u001b[0m\u001b[0m_stateless_fn\u001b[0m\u001b[0;34m(\u001b[0m\u001b[0;34m*\u001b[0m\u001b[0margs\u001b[0m\u001b[0;34m,\u001b[0m \u001b[0;34m**\u001b[0m\u001b[0mkwds\u001b[0m\u001b[0;34m)\u001b[0m  \u001b[0;31m# pylint: disable=not-callable\u001b[0m\u001b[0;34m\u001b[0m\u001b[0;34m\u001b[0m\u001b[0m\n\u001b[0m\u001b[1;32m    808\u001b[0m     \u001b[0;32melif\u001b[0m \u001b[0mself\u001b[0m\u001b[0;34m.\u001b[0m\u001b[0m_stateful_fn\u001b[0m \u001b[0;32mis\u001b[0m \u001b[0;32mnot\u001b[0m \u001b[0;32mNone\u001b[0m\u001b[0;34m:\u001b[0m\u001b[0;34m\u001b[0m\u001b[0;34m\u001b[0m\u001b[0m\n\u001b[1;32m    809\u001b[0m       \u001b[0;31m# Release the lock early so that multiple threads can perform the call\u001b[0m\u001b[0;34m\u001b[0m\u001b[0;34m\u001b[0m\u001b[0;34m\u001b[0m\u001b[0m\n",
      "\u001b[0;32m~/.local/lib/python3.8/site-packages/tensorflow/python/eager/function.py\u001b[0m in \u001b[0;36m__call__\u001b[0;34m(self, *args, **kwargs)\u001b[0m\n\u001b[1;32m   2827\u001b[0m     \u001b[0;32mwith\u001b[0m \u001b[0mself\u001b[0m\u001b[0;34m.\u001b[0m\u001b[0m_lock\u001b[0m\u001b[0;34m:\u001b[0m\u001b[0;34m\u001b[0m\u001b[0;34m\u001b[0m\u001b[0m\n\u001b[1;32m   2828\u001b[0m       \u001b[0mgraph_function\u001b[0m\u001b[0;34m,\u001b[0m \u001b[0margs\u001b[0m\u001b[0;34m,\u001b[0m \u001b[0mkwargs\u001b[0m \u001b[0;34m=\u001b[0m \u001b[0mself\u001b[0m\u001b[0;34m.\u001b[0m\u001b[0m_maybe_define_function\u001b[0m\u001b[0;34m(\u001b[0m\u001b[0margs\u001b[0m\u001b[0;34m,\u001b[0m \u001b[0mkwargs\u001b[0m\u001b[0;34m)\u001b[0m\u001b[0;34m\u001b[0m\u001b[0;34m\u001b[0m\u001b[0m\n\u001b[0;32m-> 2829\u001b[0;31m     \u001b[0;32mreturn\u001b[0m \u001b[0mgraph_function\u001b[0m\u001b[0;34m.\u001b[0m\u001b[0m_filtered_call\u001b[0m\u001b[0;34m(\u001b[0m\u001b[0margs\u001b[0m\u001b[0;34m,\u001b[0m \u001b[0mkwargs\u001b[0m\u001b[0;34m)\u001b[0m  \u001b[0;31m# pylint: disable=protected-access\u001b[0m\u001b[0;34m\u001b[0m\u001b[0;34m\u001b[0m\u001b[0m\n\u001b[0m\u001b[1;32m   2830\u001b[0m \u001b[0;34m\u001b[0m\u001b[0m\n\u001b[1;32m   2831\u001b[0m   \u001b[0;34m@\u001b[0m\u001b[0mproperty\u001b[0m\u001b[0;34m\u001b[0m\u001b[0;34m\u001b[0m\u001b[0m\n",
      "\u001b[0;32m~/.local/lib/python3.8/site-packages/tensorflow/python/eager/function.py\u001b[0m in \u001b[0;36m_filtered_call\u001b[0;34m(self, args, kwargs, cancellation_manager)\u001b[0m\n\u001b[1;32m   1841\u001b[0m       \u001b[0;31m`\u001b[0m\u001b[0margs\u001b[0m\u001b[0;31m`\u001b[0m \u001b[0;32mand\u001b[0m\u001b[0;31m \u001b[0m\u001b[0;31m`\u001b[0m\u001b[0mkwargs\u001b[0m\u001b[0;31m`\u001b[0m\u001b[0;34m.\u001b[0m\u001b[0;34m\u001b[0m\u001b[0;34m\u001b[0m\u001b[0m\n\u001b[1;32m   1842\u001b[0m     \"\"\"\n\u001b[0;32m-> 1843\u001b[0;31m     return self._call_flat(\n\u001b[0m\u001b[1;32m   1844\u001b[0m         [t for t in nest.flatten((args, kwargs), expand_composites=True)\n\u001b[1;32m   1845\u001b[0m          if isinstance(t, (ops.Tensor,\n",
      "\u001b[0;32m~/.local/lib/python3.8/site-packages/tensorflow/python/eager/function.py\u001b[0m in \u001b[0;36m_call_flat\u001b[0;34m(self, args, captured_inputs, cancellation_manager)\u001b[0m\n\u001b[1;32m   1921\u001b[0m         and executing_eagerly):\n\u001b[1;32m   1922\u001b[0m       \u001b[0;31m# No tape is watching; skip to running the function.\u001b[0m\u001b[0;34m\u001b[0m\u001b[0;34m\u001b[0m\u001b[0;34m\u001b[0m\u001b[0m\n\u001b[0;32m-> 1923\u001b[0;31m       return self._build_call_outputs(self._inference_function.call(\n\u001b[0m\u001b[1;32m   1924\u001b[0m           ctx, args, cancellation_manager=cancellation_manager))\n\u001b[1;32m   1925\u001b[0m     forward_backward = self._select_forward_and_backward_functions(\n",
      "\u001b[0;32m~/.local/lib/python3.8/site-packages/tensorflow/python/eager/function.py\u001b[0m in \u001b[0;36mcall\u001b[0;34m(self, ctx, args, cancellation_manager)\u001b[0m\n\u001b[1;32m    543\u001b[0m       \u001b[0;32mwith\u001b[0m \u001b[0m_InterpolateFunctionError\u001b[0m\u001b[0;34m(\u001b[0m\u001b[0mself\u001b[0m\u001b[0;34m)\u001b[0m\u001b[0;34m:\u001b[0m\u001b[0;34m\u001b[0m\u001b[0;34m\u001b[0m\u001b[0m\n\u001b[1;32m    544\u001b[0m         \u001b[0;32mif\u001b[0m \u001b[0mcancellation_manager\u001b[0m \u001b[0;32mis\u001b[0m \u001b[0;32mNone\u001b[0m\u001b[0;34m:\u001b[0m\u001b[0;34m\u001b[0m\u001b[0;34m\u001b[0m\u001b[0m\n\u001b[0;32m--> 545\u001b[0;31m           outputs = execute.execute(\n\u001b[0m\u001b[1;32m    546\u001b[0m               \u001b[0mstr\u001b[0m\u001b[0;34m(\u001b[0m\u001b[0mself\u001b[0m\u001b[0;34m.\u001b[0m\u001b[0msignature\u001b[0m\u001b[0;34m.\u001b[0m\u001b[0mname\u001b[0m\u001b[0;34m)\u001b[0m\u001b[0;34m,\u001b[0m\u001b[0;34m\u001b[0m\u001b[0;34m\u001b[0m\u001b[0m\n\u001b[1;32m    547\u001b[0m               \u001b[0mnum_outputs\u001b[0m\u001b[0;34m=\u001b[0m\u001b[0mself\u001b[0m\u001b[0;34m.\u001b[0m\u001b[0m_num_outputs\u001b[0m\u001b[0;34m,\u001b[0m\u001b[0;34m\u001b[0m\u001b[0;34m\u001b[0m\u001b[0m\n",
      "\u001b[0;32m~/.local/lib/python3.8/site-packages/tensorflow/python/eager/execute.py\u001b[0m in \u001b[0;36mquick_execute\u001b[0;34m(op_name, num_outputs, inputs, attrs, ctx, name)\u001b[0m\n\u001b[1;32m     57\u001b[0m   \u001b[0;32mtry\u001b[0m\u001b[0;34m:\u001b[0m\u001b[0;34m\u001b[0m\u001b[0;34m\u001b[0m\u001b[0m\n\u001b[1;32m     58\u001b[0m     \u001b[0mctx\u001b[0m\u001b[0;34m.\u001b[0m\u001b[0mensure_initialized\u001b[0m\u001b[0;34m(\u001b[0m\u001b[0;34m)\u001b[0m\u001b[0;34m\u001b[0m\u001b[0;34m\u001b[0m\u001b[0m\n\u001b[0;32m---> 59\u001b[0;31m     tensors = pywrap_tfe.TFE_Py_Execute(ctx._handle, device_name, op_name,\n\u001b[0m\u001b[1;32m     60\u001b[0m                                         inputs, attrs, num_outputs)\n\u001b[1;32m     61\u001b[0m   \u001b[0;32mexcept\u001b[0m \u001b[0mcore\u001b[0m\u001b[0;34m.\u001b[0m\u001b[0m_NotOkStatusException\u001b[0m \u001b[0;32mas\u001b[0m \u001b[0me\u001b[0m\u001b[0;34m:\u001b[0m\u001b[0;34m\u001b[0m\u001b[0;34m\u001b[0m\u001b[0m\n",
      "\u001b[0;31mKeyboardInterrupt\u001b[0m: "
     ]
    }
   ],
   "source": [
    "tfhistory = model.fit(ex_train.astype('float32'), ey_train.astype('float32'), batch_size=128, shuffle=True,\n",
    "                      epochs=50, validation_data=(ex_val.astype('float32'), ey_val.astype('float32')),\n",
    "                      callbacks=[reducelr])"
   ]
  },
  {
   "cell_type": "code",
   "execution_count": 45,
   "metadata": {},
   "outputs": [],
   "source": [
    "def hist_plot(history):\n",
    "    plt.plot(history.history['loss'][5:])\n",
    "    plt.plot(history.history['val_loss'][5:])\n",
    "    plt.title('model loss')\n",
    "    plt.ylabel('loss')\n",
    "    plt.xlabel('epoch')\n",
    "    plt.legend(['train', 'test'], loc='upper left')\n",
    "    plt.show()"
   ]
  },
  {
   "cell_type": "code",
   "execution_count": 46,
   "metadata": {},
   "outputs": [
    {
     "data": {
      "image/png": "[encoded data removed]",
      "text/plain": [
       "<Figure size 432x288 with 1 Axes>"
      ]
     },
     "metadata": {
      "needs_background": "light"
     },
     "output_type": "display_data"
    }
   ],
   "source": [
    "hist_plot(tfhistory)"
   ]
  },
  {
   "cell_type": "code",
   "execution_count": 47,
   "metadata": {},
   "outputs": [],
   "source": [
    "model.save('models/model1_short_36000.hdf5')"
   ]
  },
  {
   "cell_type": "code",
   "execution_count": 64,
   "metadata": {},
   "outputs": [
    {
     "ename": "ValueError",
     "evalue": "No model found in config file.",
     "output_type": "error",
     "traceback": [
      "\u001b[0;31m---------------------------------------------------------------------------\u001b[0m",
      "\u001b[0;31mValueError\u001b[0m                                Traceback (most recent call last)",
      "\u001b[0;32m<ipython-input-64-8227d882d84a>\u001b[0m in \u001b[0;36m<module>\u001b[0;34m\u001b[0m\n\u001b[0;32m----> 1\u001b[0;31m \u001b[0mmodel\u001b[0m \u001b[0;34m=\u001b[0m \u001b[0mkeras\u001b[0m\u001b[0;34m.\u001b[0m\u001b[0mmodels\u001b[0m\u001b[0;34m.\u001b[0m\u001b[0mload_model\u001b[0m\u001b[0;34m(\u001b[0m\u001b[0;34m'facepoints_model.hdf5'\u001b[0m\u001b[0;34m)\u001b[0m\u001b[0;34m\u001b[0m\u001b[0;34m\u001b[0m\u001b[0m\n\u001b[0m",
      "\u001b[0;32m~/.local/lib/python3.8/site-packages/tensorflow/python/keras/saving/save.py\u001b[0m in \u001b[0;36mload_model\u001b[0;34m(filepath, custom_objects, compile, options)\u001b[0m\n\u001b[1;32m    180\u001b[0m     if (h5py is not None and (\n\u001b[1;32m    181\u001b[0m         isinstance(filepath, h5py.File) or h5py.is_hdf5(filepath))):\n\u001b[0;32m--> 182\u001b[0;31m       \u001b[0;32mreturn\u001b[0m \u001b[0mhdf5_format\u001b[0m\u001b[0;34m.\u001b[0m\u001b[0mload_model_from_hdf5\u001b[0m\u001b[0;34m(\u001b[0m\u001b[0mfilepath\u001b[0m\u001b[0;34m,\u001b[0m \u001b[0mcustom_objects\u001b[0m\u001b[0;34m,\u001b[0m \u001b[0mcompile\u001b[0m\u001b[0;34m)\u001b[0m\u001b[0;34m\u001b[0m\u001b[0;34m\u001b[0m\u001b[0m\n\u001b[0m\u001b[1;32m    183\u001b[0m \u001b[0;34m\u001b[0m\u001b[0m\n\u001b[1;32m    184\u001b[0m     \u001b[0mfilepath\u001b[0m \u001b[0;34m=\u001b[0m \u001b[0mpath_to_string\u001b[0m\u001b[0;34m(\u001b[0m\u001b[0mfilepath\u001b[0m\u001b[0;34m)\u001b[0m\u001b[0;34m\u001b[0m\u001b[0;34m\u001b[0m\u001b[0m\n",
      "\u001b[0;32m~/.local/lib/python3.8/site-packages/tensorflow/python/keras/saving/hdf5_format.py\u001b[0m in \u001b[0;36mload_model_from_hdf5\u001b[0;34m(filepath, custom_objects, compile)\u001b[0m\n\u001b[1;32m    173\u001b[0m     \u001b[0mmodel_config\u001b[0m \u001b[0;34m=\u001b[0m \u001b[0mf\u001b[0m\u001b[0;34m.\u001b[0m\u001b[0mattrs\u001b[0m\u001b[0;34m.\u001b[0m\u001b[0mget\u001b[0m\u001b[0;34m(\u001b[0m\u001b[0;34m'model_config'\u001b[0m\u001b[0;34m)\u001b[0m\u001b[0;34m\u001b[0m\u001b[0;34m\u001b[0m\u001b[0m\n\u001b[1;32m    174\u001b[0m     \u001b[0;32mif\u001b[0m \u001b[0mmodel_config\u001b[0m \u001b[0;32mis\u001b[0m \u001b[0;32mNone\u001b[0m\u001b[0;34m:\u001b[0m\u001b[0;34m\u001b[0m\u001b[0;34m\u001b[0m\u001b[0m\n\u001b[0;32m--> 175\u001b[0;31m       \u001b[0;32mraise\u001b[0m \u001b[0mValueError\u001b[0m\u001b[0;34m(\u001b[0m\u001b[0;34m'No model found in config file.'\u001b[0m\u001b[0;34m)\u001b[0m\u001b[0;34m\u001b[0m\u001b[0;34m\u001b[0m\u001b[0m\n\u001b[0m\u001b[1;32m    176\u001b[0m     \u001b[0mmodel_config\u001b[0m \u001b[0;34m=\u001b[0m \u001b[0mjson\u001b[0m\u001b[0;34m.\u001b[0m\u001b[0mloads\u001b[0m\u001b[0;34m(\u001b[0m\u001b[0mmodel_config\u001b[0m\u001b[0;34m.\u001b[0m\u001b[0mdecode\u001b[0m\u001b[0;34m(\u001b[0m\u001b[0;34m'utf-8'\u001b[0m\u001b[0;34m)\u001b[0m\u001b[0;34m)\u001b[0m\u001b[0;34m\u001b[0m\u001b[0;34m\u001b[0m\u001b[0m\n\u001b[1;32m    177\u001b[0m     model = model_config_lib.model_from_config(model_config,\n",
      "\u001b[0;31mValueError\u001b[0m: No model found in config file."
     ]
    }
   ],
   "source": [
    "model = keras.models.load_model('facepoints_model.hdf5')"
   ]
  },
  {
   "cell_type": "code",
   "execution_count": null,
   "metadata": {},
   "outputs": [],
   "source": []
  }
 ],
 "metadata": {
  "kernelspec": {
   "display_name": "Python 3",
   "language": "python",
   "name": "python3"
  },
  "language_info": {
   "codemirror_mode": {
    "name": "ipython",
    "version": 3
   },
   "file_extension": ".py",
   "mimetype": "text/x-python",
   "name": "python",
   "nbconvert_exporter": "python",
   "pygments_lexer": "ipython3",
   "version": "3.7.9"
  }
 },
 "nbformat": 4,
 "nbformat_minor": 4
}
